{
  "nbformat": 4,
  "nbformat_minor": 0,
  "metadata": {
    "colab": {
      "name": "natural_language_processing.ipynb",
      "provenance": [],
      "collapsed_sections": [],
      "toc_visible": true
    },
    "kernelspec": {
      "name": "python_defaultSpec_1600378045843",
      "display_name": "Python 3.8.0 32-bit"
    }
  },
  "cells": [
    {
      "cell_type": "markdown",
      "metadata": {
        "id": "VwK5-9FIB-lu",
        "colab_type": "text"
      },
      "source": [
        "# Natural Language Processing"
      ]
    },
    {
      "cell_type": "markdown",
      "metadata": {
        "id": "X1kiO9kACE6s",
        "colab_type": "text"
      },
      "source": [
        "## Importing the libraries"
      ]
    },
    {
      "cell_type": "code",
      "metadata": {
        "id": "7QG7sxmoCIvN",
        "colab_type": "code",
        "colab": {}
      },
      "source": [
        "import numpy as np\n",
        "import matplotlib.pyplot as plt\n",
        "import pandas as pd"
      ],
      "execution_count": 1,
      "outputs": []
    },
    {
      "cell_type": "markdown",
      "metadata": {
        "id": "wTfaCIzdCLPA",
        "colab_type": "text"
      },
      "source": [
        "## Importing the dataset"
      ]
    },
    {
      "cell_type": "code",
      "metadata": {
        "id": "UCK6vQ5QCQJe",
        "colab_type": "code",
        "colab": {}
      },
      "source": [
        "dataset = pd.read_csv('gradez_dataset.tsv', delimiter = '\\t', quoting = 3, encoding='utf-8')"
      ],
      "execution_count": 31,
      "outputs": []
    },
    {
      "cell_type": "code",
      "execution_count": 30,
      "metadata": {
        "tags": []
      },
      "outputs": [
        {
          "output_type": "stream",
          "name": "stdout",
          "text": "0       1\n1       1\n2       1\n3       1\n4       1\n       ..\n191    10\n192    10\n193    10\n194    10\n195    10\nName: Marks, Length: 196, dtype: int64\n"
        }
      ],
      "source": [
        "print(dataset['Marks'])"
      ]
    },
    {
      "cell_type": "markdown",
      "metadata": {
        "id": "Qekztq71CixT",
        "colab_type": "text"
      },
      "source": [
        "## Cleaning the texts"
      ]
    },
    {
      "cell_type": "code",
      "metadata": {
        "id": "8u_yXh9dCmEE",
        "colab_type": "code",
        "outputId": "bdcb9868-74c8-40b2-e5e9-877b949ce385",
        "colab": {
          "base_uri": "https://localhost:8080/",
          "height": 52
        },
        "tags": []
      },
      "source": [
        "import re\n",
        "import nltk\n",
        "nltk.download('stopwords')\n",
        "from nltk.corpus import stopwords\n",
        "from nltk.stem.porter import PorterStemmer\n",
        "corpus = []\n",
        "for i in range(0, 196):\n",
        "  answer = re.sub('[^a-zA-Z]', ' ', dataset['Answer'][i])\n",
        "  answer = answer.lower()\n",
        "  answer = answer.split()\n",
        "  ps = PorterStemmer()\n",
        "  all_stopwords = stopwords.words('english')\n",
        "  all_stopwords.remove('not')\n",
        "  answer = [ps.stem(word) for word in answer if not word in set(all_stopwords)]\n",
        "  answer = ' '.join(answer)\n",
        "  corpus.append(answer)"
      ],
      "execution_count": 20,
      "outputs": [
        {
          "output_type": "stream",
          "name": "stderr",
          "text": "[nltk_data] Downloading package stopwords to\n[nltk_data]     C:\\Users\\shriraj\\AppData\\Roaming\\nltk_data...\n[nltk_data]   Package stopwords is already up-to-date!\n"
        }
      ]
    },
    {
      "cell_type": "code",
      "metadata": {
        "id": "KpGWdrzGoAsL",
        "colab_type": "code",
        "outputId": "a1d5020d-8005-4735-d4b9-ad99fb366534",
        "colab": {
          "base_uri": "https://localhost:8080/",
          "height": 55
        },
        "tags": [
          "outputPrepend"
        ]
      },
      "source": [
        "print(corpus)"
      ],
      "execution_count": 28,
      "outputs": [
        {
          "output_type": "stream",
          "name": "stdout",
          "text": "l focu becom reduc line code reduc number bug report increas number softwar iter speed complet task focus metric target help softwar develop reach import goal improv softwar use user experi standard definit softwar metric valu softwar develop team softwar metric differ valu differ team depend goal softwar develop team', 'softwar metric standard measur contain mani activ involv degre measur classifi three categori product metric process metric project metric product metric describ characterist product size complex design featur perform qualiti level process metric use improv softwar develop mainten exampl includ effect defect remov develop pattern test defect arriv respons time fix process project metric describ project characterist execut exampl includ number softwar develop staf pattern life cycl softwar cost schedul product metric belong multipl categori exampl process qualiti metric project process metric project metric cost effort estim effort express function one variabl size program capabl develop level reus cost effort estim model propos predict project cost earli phase softwar life cycl differ model propos boehm cocomo model putnam slim model albrecht function point model ii product model measur product consid function valu cost decompos differ measur size function time money etc iii data collect qualiti measur program clearli depend care data collect data collect distil simpl chart graph manag understand progress problem develop data collect also essenti scientif investig relationship trend iv qualiti model measur qualiti model develop measur qualiti product without product meaningless qualiti model combin product model measur correct product model usual construct tree like fashion upper branch hold import high level qualiti factor reliabl usabl notion divid conquer approach implement standard approach measur softwar qualiti v reliabl model qualiti model includ reliabl compon factor howev need predict measur reliabl led separ special reliabl model predict basic problem reliabl theori predict system eventu fail vi perform evalu model includ extern observ system perform characterist respons time complet rate intern work system effici algorithm anoth aspect qualiti vii structur complex measur structur attribut represent softwar avail advanc execut tri establish empir predict theori support qualiti assur qualiti control qualiti predict vii manag metric manag softwar project measur vital role check whether project track user develop reli measur base chart graph standard set measur report method especi import softwar embed product custom not usual well vers softwar terminolog viii evalu method tool depend experiment design proper identif factor like affect outcom appropri measur factor attribut ix capabl matur assess model assess mani differ attribut develop includ use tool standard practic base key practic everi good contractor use', 'softwar develop metric quantit measur softwar product project help manag understand softwar perform qualiti product effici softwar team type softwar metric formal code metric line code loc code complex instruct path length etc modern develop environ consid less use develop product metric activ day assign scope effici code churn metric help understand much time work develop invest softwar project agil process metric lead time cycl time veloc measur progress dev team produc work ship qualiti softwar featur oper metric mean time failur mtbf mean time recov mttr check softwar run product effect oper staff maintain test metric code coverag percent autom test defect product measur comprehens system test correl softwar qualiti custom satisfact net promot score np custom effort score ce custom satisfact score csat ultim measur custom experi softwar interact softwar vendor metric agil softwar develop agil methodolog uniqu approach softwar develop metric use effect leon tranter present three agil principl softwar metric metric use team not impos manag rather use team assess improv work metric part convers metric number combin deeper discuss process challeng face team metric use part investig experi agil team use metric specif hypothesi mind not measur sake measur softwar develop metric exampl custom satisfact wide use respect metric custom satisfact net promot score np number rang indic custom refer other custom like refer other surveymonkey provid full calcul np let set free np survey ii team veloc team veloc measur number stori point quantifi number size product featur complet team previou sprint help understand much valu team provid custom given time period iii releas burndown releas burndown chart help understand across entir softwar releas develop progress much plan softwar function remain done expect releas complet iv escap defect metric check per releas product compon mani bug issu identifi softwar alreadi product good indic qualiti perceiv end user increas sign faulti qualiti process v true test coverag call metric true test coverag oppos regular test coverag metric measur unit test metric tell much codebas featur set cover type test unit integr ui autom manual test end end accept test reveal qualiti gap part softwar new activ use not suffici test coverag', 'cost effort estim use cost effort estim model predict cost project earlier phase softwar develop life cycl exampl boehm cocomo model putnam slim model regress base model etc ii product model measur sever measur model assess staff product softwar process indiffer environ product function valu cast decompos aspect express measur form iii manag metrix measur import part softwar project manag custom develop use measur base chart graph help track project track mani organ defin set measur report method project compar contrast iv evalu method tool mani organ use new method tool make product better cheaper organ perform experi run case studi administr survey help decid whether method tool like make posit differ particular situat evalu depend upon good experiment design proper identif factor affect outcom appropri measur factor attribut v capabl matur assess vs softwar engin institut sei propos capabl matur model measur contractor abil develop qualiti softwar us govern cmm updat version process matur model model assess differ attribut develop includ use tool standard practic model contractor need answer question determin contractor actual practic result grade report five level ordin scale vi perform evalu model perform one aspect qualiti perform evalu includ characterist respons time complet rate perform evalu cover intern work system includ effici complex algorithm vii structur complex measur structur attribut represent softwar avail advanc execut structur attribut use predict part system less reliabl difficult test requir mainten other viii data collect data collect must consist complet must plan execut care sensit manner data collect also essenti scientif investig relationship trend ix qualiti model measur qualiti factor compos low level criteria structur traceabl etc criteria easier understand measur factor', 'measur process number symbol assign attribut entiti real world way describ accord clearli defin rule measur captur inform attribut entiti measur everyday life measur use econom determin price pay increas measur weather system use predict weather measur radar system enabl us detect aircraft measur also use medic system help doctor diagnos specif diseas measur make thing measur measur make nonmeasur thing measur measur unmeasur improv understand particular entiti attribut make engin power measur softwar engin softwar engin describ collect techniqu appli engin approach construct support softwar product softwar engin includ variou activ like manag plan cast analyz specifi design test maintain measur use activ activ understood control neglect measur engin fail set measur target softwar product exampl earlier phase promis product user friendli reliabl maintain project complet tell met goal fail understand qualifi compon cost softwar program control overal cost project not measur rel cost compon not qualifi predict qualiti product produc tell user product reliabl product allow anecdot evid convinc us tri yet anoth revolutionari new develop technolog without care control studi determin technolog effici effect object softwar measur manag perspect process cost b product staff c good code product user satisfi product e improv ii engin perspect requir testabl b found fault c met product process goal happen futur measur understand control improv measur help us understand happen develop mainten measur allow us control happen project measur encourag us improv process product', 'measur process number symbol assign attribut entiti real world way describ accord clearli defin rule measur let us understand inform attribut entiti measur everyday life measur use econom determin price product market measur weather system use predict weather measur radar system enabl us detect aircraft measur also use medic system help doctor diagnos determin diseas patient suffer measur make thing measur measur make not measur thing measur measur unmeasur help understand particular entiti attribut also help make engin power measur softwar engin softwar engin describ collect techniqu appli engin approach construct support softwar product softwar engin variou activ like manag plan cast analyz specifi design test maintain measur use activ understand control activ neglect measur engin softwar cannot measur therefor fail set measur target softwar product exampl earlier phase promis product user friendli reliabl maintain project complet tell met goal qualifi compon cost softwar program cannot understood well us therefor overal cost project cannot control us not measur rel cost compon not qualifi predict qualiti product produc tell user product reliabl product allow anecdot evid convinc us tri yet anoth revolutionari new develop technolog without care control studi determin technolog effici effect object softwar measur manag perspect process cost b product staff c good code product user satisfi product e improv ii engin perspect requir testabl b found fault c met product process goal happen futur measur understand control improv measur help us understand happen develop mainten measur allow us control happen project measur encourag us improv process product', 'measur process number symbol assign attribut entiti real world way describ accord clearli defin rule measur captur inform attribut entiti entiti object person room event journey test phase softwar real world attribut featur properti entiti color room cost journey elaps time test phase gener two kind qualif measur direct qualif ii calcul indirect qualif take measur attribut whose valu tri understand measur use econom determin price pay increas measur radar system enabl detect aircraft measur also use medic system help doctor diagnos specif diseas way product qualiti measur price accord softwar engin describ collect techniqu appli engin approach construct support softwar product softwar engin includ variou activ like manag plan cost analyz specifi design test mainten measur use activ activ understood control object softwar measur manag perspect process cast b product staff c good code develop user satisfi product e improv ii engin perspect requir testabl b found fault c met product process goal happen futur measur help us understand happen develop mainten measur allow us control happen project measur encourag us improv process product', 'measur process number symbol assign attribut entiti real world way describ accord clearli defin rule help measur get inform attribut entiti entiti object like person room even event journey test phase softwar real world attribut featur qualiti properti entiti color room cost journey elaps time test phase gener two kind qualif measur direct qualif ii calcul indirect qualif take measur attribut whose valu tri understand measur also use econom determin price product market measur radar system enabl detect aircraft well submarin water measur also use hospit help doctor specifi diseas patient suffer way product qualiti measur price accord softwar engin defin collect techniqu appli engin approach construct support softwar product softwar engin includ variou activ like manag plan cost analyz specifi design test mainten measur softwar use activ activ understood control object softwar measur manag perspect process cast b product staff c good code develop user satisfi product e improv ii engin perspect requir testabl b found fault c met product process goal happen futur measur help us understand done product develop maintain measur allow us control happen project measur encourag us improv process product', 'mani represent theori measur given empir relat three type empir relat depend upon relat defin either singl element entiti set collect element unari relat defin empir relat individu singl element entiti b binari relat defin empir relat exactli two entiti c ternari relat defin relat two entiti exampl three instanc given taller b tallest b tall c not tall c taller sit b shoulder given two peopl x conclud x taller taller x therefor say taller empir relat binari height similarli tall unari empir relat ii rule map real world domain map mathemat world rang map map attribut entiti real world mathemat world mani choic map rang e use real number integ non numer symbol mathemat system map may differ depend upon convent adopt measur must specifi domain rang well rule map exampl want measur height person measur height inch centimet feet measur height use differ convent like measur height person stand sit wear shoe not iii represent condit measur represent condit state measur map must map entiti number empir relat numer relat mathemat relat way empir relat preserv preserv mathemat relat empir relat taller map numer relat say taller b b statement impli whenev taller b must bigger number b say higher number b taller b empir relat binari taller numer relat b unempir relat tall numer relat represent condit requir measur tall', 'sever type represent theori measur given empir relat empir relat three type relat depend relat defin singl element set collect element unari relat defin empir relat singl entiti b binari relat defin empir relat exactli two entiti c ternari relat defin relat two entiti exampl three instanc given taller b tallest b tall c not tall c taller sit b shoulder given two peopl x say x taller taller x therefor say taller empir relat binari height similarli tall unari empir relat ii rule map real world domain map mathemat word rang map map attribut entiti real world mathemat world sever type map rang e use real number integ non numer symbol mathemat system map could differ depend convent adopt measur specifi domain rang well rule map exampl height inch centimet feet measur height use differ accord like measur height person stand sit wear shoe not iii represent condit measur represent condit state measur map map entiti number empir relat numer relat way empir relat maintain maintain mathemat relat exampl height two peopl taller map numer relat say person taller person b b statement impli whenev person taller person b must bigger number b person taller person b say higher number b empir relat taller get numer relat b unempir relat tall numer relat represent condit requir measur tall', 'softwar metric term provid mani activ involv degre softwar measur cost effort estim use cost effort estim model predict cost project earlier phase softwar develop life cycl exampl boehm cocomo model putnam slim model regress base model etc ii product model measur sever measur model assess staff product softwar process indiffer environ product function valu cast decompos aspect express measur form iii data collect qualiti measur program clearli depend care data collect collect data easier said done data must collect across divers set project data collect must consist complet must plan execut care sensit manner data collect also essenti scientif investig relationship trend iv qualiti model measur qualiti model bohem qualiti model macal qualiti model use product model model construct tree like fashion upper branch hold high level qualiti factor softwar product reliabl usabl etc qualiti factor compos low level criteria structur traceabl etc criteria easier understand measur factor v reliabl model reliabl one import factor qualiti model need predict measur reliabl product reliabl indic probabl failur free oper sever parametr reliabl growth model increas reliabl product exampl moronda littlewood littlewood voral non homogen poison process nhpp model vi perform evalu model perform one aspect qualiti perform evalu includ characterist respons time complet rate perform evalu cover intern work system includ effici complex algorithm vii structur complex measur structur attribut represent softwar avail advanc execut structur attribut use predict part system less reliabl difficult test requir mainten other vii manag metrix measur import part softwar project manag custom develop use measur base chart graph help track project track mani organ defin set measur report method project compar contrast measur tell custom develop project viii evalu method tool mani organ use new method tool make product better cheaper organ perform experi run case studi administr survey help decid whether method tool like make posit differ particular situat evalu depend upon good experiment design proper identif factor affect outcom appropri measur factor attribut ix capabl matur assess vs softwar engin institut sei propos capabl matur model measur contractor abil develop qualiti softwar us govern cmm updat version process matur model model assess differ attribut develop includ use tool standard practic model contractor need answer question determin contractor actual practic result grade report five level ordin scale', 'mani type softwar metric softwar metric use measur qualiti softwar cost effort estim cost effort estim use model predict cost project start work develop softwar life cycl exampl bohem cocomo model putnam model regress base model etc ii product model measur mani measur model evalu staff product time process common environ product function valu cost later divid aspect measur iii data collect qualiti measur program depend care data collect collect data not easi task data collect divers set project data collect must steadi complet plan well execut care sensit manner iv qualiti model measur qualiti model like bohem qualiti model macal qualiti model use product model model construct tree like fashion branch upper side contain high level qualiti factor softwar product reliabl usabl user friendli etc qualiti factor contain low level criteria structur traceabl etc low level criteria easi understand well easi measur factor v reliabl model reliabl one import compon qualiti model need predict measur reliabl product reliabl show probabl failur free oper sever paramet growth reliabl model increas reliabl product exampl moronda littlewood nhpp model vi perform evalu model perform one import featur qualiti evalu perform includ characterist respons time complet rate evalu perform cover intern work system well effici complex algorithm vii structur complex structur attribut represent softwar measur avail advanc execut structur complex attribut use predict part system less reliabl difficult test requir mainten part system viii manag metric manag import part softwar project manag custom well develop use chart graph measur progress help keep track project measur show custom develop project ix evalu method tool new method tool use mani organ make product cheaper organ perform experi run case studi administr survey help decid tool method make posit effect particular situat evalu depend upon good experiment design identifi factor affect outcom correct measur factor attribut x capabl matur assess capabl matur model cmm updat version process matur model use model contractor answer question decid contractor actual practic result grade report ordin scale five level e']\n"
        }
      ]
    },
    {
      "cell_type": "markdown",
      "metadata": {
        "id": "CLqmAkANCp1-",
        "colab_type": "text"
      },
      "source": [
        "## Creating the Bag of Words model"
      ]
    },
    {
      "cell_type": "code",
      "metadata": {
        "id": "qroF7XcSCvY3",
        "colab_type": "code",
        "colab": {}
      },
      "source": [
        "from sklearn.feature_extraction.text import CountVectorizer\n",
        "cv = CountVectorizer(max_features = 1500)\n",
        "X = cv.fit_transform(corpus).toarray()\n",
        "y = dataset.iloc[:, -1].values"
      ],
      "execution_count": 22,
      "outputs": []
    },
    {
      "cell_type": "markdown",
      "metadata": {
        "id": "DH_VjgPzC2cd",
        "colab_type": "text"
      },
      "source": [
        "## Splitting the dataset into the Training set and Test set"
      ]
    },
    {
      "cell_type": "code",
      "metadata": {
        "id": "qQXYM5VzDDDI",
        "colab_type": "code",
        "colab": {}
      },
      "source": [
        "from sklearn.model_selection import train_test_split\n",
        "X_train, X_test, y_train, y_test = train_test_split(X, y, test_size = 0.20, random_state = 0)"
      ],
      "execution_count": 23,
      "outputs": []
    },
    {
      "cell_type": "markdown",
      "metadata": {
        "id": "VkIq23vEDIPt",
        "colab_type": "text"
      },
      "source": [
        "## Training the Naive Bayes model on the Training set"
      ]
    },
    {
      "cell_type": "code",
      "metadata": {
        "id": "DS9oiDXXDRdI",
        "colab_type": "code",
        "outputId": "77513c39-0ec6-4544-c056-26abe055b746",
        "colab": {
          "base_uri": "https://localhost:8080/",
          "height": 34
        }
      },
      "source": [
        "from sklearn.naive_bayes import GaussianNB\n",
        "classifier = GaussianNB()\n",
        "classifier.fit(X_train, y_train)"
      ],
      "execution_count": 24,
      "outputs": [
        {
          "output_type": "execute_result",
          "data": {
            "text/plain": "GaussianNB()"
          },
          "metadata": {},
          "execution_count": 24
        }
      ]
    },
    {
      "cell_type": "markdown",
      "metadata": {
        "id": "1JaRM7zXDWUy",
        "colab_type": "text"
      },
      "source": [
        "## Predicting the Test set results"
      ]
    },
    {
      "cell_type": "code",
      "metadata": {
        "id": "Iif0CVhFDaMp",
        "colab_type": "code",
        "outputId": "1266c3f2-d500-440e-d756-e0eabad504a7",
        "colab": {
          "base_uri": "https://localhost:8080/",
          "height": 1000
        },
        "tags": []
      },
      "source": [
        "y_pred = classifier.predict(X_test)\n",
        "print(np.concatenate((y_pred.reshape(len(y_pred),1), y_test.reshape(len(y_test),1)),1))"
      ],
      "execution_count": 25,
      "outputs": [
        {
          "output_type": "stream",
          "name": "stdout",
          "text": "[[ 8  5]\n [ 2  1]\n [ 3  2]\n [10  6]\n [ 9  8]\n [ 5  7]\n [10  8]\n [10  7]\n [ 3  4]\n [ 2  1]\n [ 2  1]\n [ 2  1]\n [10  7]\n [ 7  8]\n [ 9  8]\n [ 9  9]\n [ 6  6]\n [ 8  4]\n [ 4  3]\n [ 9  7]\n [10  3]\n [ 9  9]\n [10  7]\n [ 8  5]\n [ 8  4]\n [ 8  3]\n [ 7  6]\n [10  8]\n [10  9]\n [ 5  3]\n [ 3  2]\n [ 6  8]\n [ 3  4]\n [ 8  2]\n [ 4  1]\n [ 8  5]\n [ 8  9]\n [ 5  6]\n [ 4  8]\n [ 5  2]]\n"
        }
      ]
    },
    {
      "cell_type": "markdown",
      "metadata": {
        "id": "xoMltea5Dir1",
        "colab_type": "text"
      },
      "source": [
        "## Making the Confusion Matrix"
      ]
    },
    {
      "cell_type": "code",
      "metadata": {
        "id": "Xj9IU6MxDnvo",
        "colab_type": "code",
        "outputId": "43efba29-9811-4913-a085-8355ec1c02cb",
        "colab": {
          "base_uri": "https://localhost:8080/",
          "height": 68
        },
        "tags": []
      },
      "source": [
        "from sklearn.metrics import confusion_matrix, accuracy_score\n",
        "cm = confusion_matrix(y_test, y_pred)\n",
        "print(cm)\n",
        "accuracy_score(y_test, y_pred)"
      ],
      "execution_count": 26,
      "outputs": [
        {
          "output_type": "stream",
          "name": "stdout",
          "text": "[[0 4 0 1 0 0 0 0 0 0]\n [0 0 2 0 1 0 0 1 0 0]\n [0 0 0 1 1 0 0 1 0 1]\n [0 0 2 0 0 0 0 2 0 0]\n [0 0 0 0 0 0 0 3 0 0]\n [0 0 0 0 1 1 1 0 0 1]\n [0 0 0 0 1 0 0 0 1 3]\n [0 0 0 1 0 1 1 0 2 2]\n [0 0 0 0 0 0 0 1 2 1]\n [0 0 0 0 0 0 0 0 0 0]]\n"
        },
        {
          "output_type": "execute_result",
          "data": {
            "text/plain": "0.075"
          },
          "metadata": {},
          "execution_count": 26
        }
      ]
    },
    {
      "cell_type": "code",
      "execution_count": null,
      "metadata": {},
      "outputs": [],
      "source": []
    }
  ]
}